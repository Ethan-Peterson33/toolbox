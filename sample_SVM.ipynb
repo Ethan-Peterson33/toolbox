{
 "cells": [
  {
   "cell_type": "code",
   "execution_count": 35,
   "metadata": {},
   "outputs": [
    {
     "name": "stdout",
     "output_type": "stream",
     "text": [
      "0.9672068554637112\n",
      "0.9672068554637112\n"
     ]
    }
   ],
   "source": [
    "import numpy as np\n",
    "import pandas as pd\n",
    "from sklearn.svm import SVR\n",
    "from sklearn.model_selection import train_test_split\n",
    "from sklearn.metrics import r2_score\n",
    "from sklearn.preprocessing import LabelEncoder\n",
    "#assign Kernal \n",
    "regressor=SVR(kernel='linear', degree=1)\n",
    "labelencoder = LabelEncoder()\n",
    "\n",
    "train = pd.read_csv('iris.csv')\n",
    "train['Species'] = labelencoder.fit_transform(train['Species'])\n",
    "y = train['Species']\n",
    "x = train.drop(columns ='Species')\n",
    "\n",
    "#split data up for testing and training \n",
    "x_train, x_test, y_train, y_test = train_test_split(x, y)\n",
    "\n",
    "\n",
    "#fit the data into the model \n",
    "regressor.fit(x_train,y_train)\n",
    "\n",
    "pred = regressor.predict(x_test)\n",
    "print(regressor.score(x_test,y_test))\n",
    "print(r2_score(y_test,pred))"
   ]
  },
  {
   "cell_type": "code",
   "execution_count": 36,
   "metadata": {},
   "outputs": [
    {
     "name": "stdout",
     "output_type": "stream",
     "text": [
      "-0.027027027027027195\n",
      "-0.027027027027027195\n"
     ]
    },
    {
     "name": "stderr",
     "output_type": "stream",
     "text": [
      "/Users/ethanpeterson/anaconda3/lib/python3.7/site-packages/sklearn/svm/base.py:196: FutureWarning: The default value of gamma will change from 'auto' to 'scale' in version 0.22 to account better for unscaled features. Set gamma explicitly to 'auto' or 'scale' to avoid this warning.\n",
      "  \"avoid this warning.\", FutureWarning)\n"
     ]
    }
   ],
   "source": [
    "regressor = SVR(kernel='rbf', epsilon=1.0)\n",
    "regressor.fit(x_train, y_train)\n",
    "pred = regressor.predict(x_test)\n",
    "print(regressor.score(x_test,y_test))\n",
    "print(r2_score(y_test,pred))"
   ]
  },
  {
   "cell_type": "code",
   "execution_count": null,
   "metadata": {},
   "outputs": [],
   "source": []
  }
 ],
 "metadata": {
  "kernelspec": {
   "display_name": "Python 3",
   "language": "python",
   "name": "python3"
  },
  "language_info": {
   "codemirror_mode": {
    "name": "ipython",
    "version": 3
   },
   "file_extension": ".py",
   "mimetype": "text/x-python",
   "name": "python",
   "nbconvert_exporter": "python",
   "pygments_lexer": "ipython3",
   "version": "3.7.3"
  }
 },
 "nbformat": 4,
 "nbformat_minor": 2
}
