{
 "cells": [
  {
   "cell_type": "code",
   "execution_count": 1,
   "metadata": {},
   "outputs": [],
   "source": [
    "import pandas as pd\n",
    "import numpy as np\n",
    "from xgboost import XGBClassifier"
   ]
  },
  {
   "cell_type": "code",
   "execution_count": 10,
   "metadata": {},
   "outputs": [],
   "source": [
    "data = np.loadtxt('pima-indians-diabetes.csv', delimiter=',')\n"
   ]
  },
  {
   "cell_type": "code",
   "execution_count": 15,
   "metadata": {},
   "outputs": [
    {
     "name": "stdout",
     "output_type": "stream",
     "text": [
      "Accuracy: 77.95%\n"
     ]
    }
   ],
   "source": [
    "from sklearn.model_selection import train_test_split\n",
    "from sklearn.metrics import accuracy_score\n",
    "x = data[:,0:8]\n",
    "y = data[:,8]\n",
    "\n",
    "seed = 7\n",
    "test_size = 0.33\n",
    "#split data into tain and test\n",
    "X_train, X_test, Y_train, Y_test = train_test_split(x, y, test_size=test_size, random_state=seed)\n",
    "#fit model on training data\n",
    "model = XGBClassifier()\n",
    "model.fit(X_train, Y_train)\n",
    "#make predictions\n",
    "y_pred = model.predict(X_test)\n",
    "predictions = [round(value) for value in y_pred]\n",
    "predictions\n",
    "\n",
    "# evaluate predictions\n",
    "accuracy = accuracy_score(Y_test, predictions)\n",
    "print(\"Accuracy: %.2f%%\" % (accuracy * 100.0))"
   ]
  },
  {
   "cell_type": "code",
   "execution_count": 16,
   "metadata": {},
   "outputs": [
    {
     "name": "stdout",
     "output_type": "stream",
     "text": [
      "[0]\tvalidation_0-error:0.259843\n",
      "[1]\tvalidation_0-error:0.26378\n",
      "[2]\tvalidation_0-error:0.26378\n",
      "[3]\tvalidation_0-error:0.255906\n",
      "[4]\tvalidation_0-error:0.255906\n",
      "[5]\tvalidation_0-error:0.26378\n",
      "[6]\tvalidation_0-error:0.23622\n",
      "[7]\tvalidation_0-error:0.255906\n",
      "[8]\tvalidation_0-error:0.248031\n",
      "[9]\tvalidation_0-error:0.248031\n",
      "[10]\tvalidation_0-error:0.248031\n",
      "[11]\tvalidation_0-error:0.232283\n",
      "[12]\tvalidation_0-error:0.228346\n",
      "[13]\tvalidation_0-error:0.228346\n",
      "[14]\tvalidation_0-error:0.228346\n",
      "[15]\tvalidation_0-error:0.228346\n",
      "[16]\tvalidation_0-error:0.228346\n",
      "[17]\tvalidation_0-error:0.228346\n",
      "[18]\tvalidation_0-error:0.224409\n",
      "[19]\tvalidation_0-error:0.232283\n",
      "[20]\tvalidation_0-error:0.232283\n",
      "[21]\tvalidation_0-error:0.23622\n",
      "[22]\tvalidation_0-error:0.23622\n",
      "[23]\tvalidation_0-error:0.232283\n",
      "[24]\tvalidation_0-error:0.228346\n",
      "[25]\tvalidation_0-error:0.228346\n",
      "[26]\tvalidation_0-error:0.224409\n",
      "[27]\tvalidation_0-error:0.224409\n",
      "[28]\tvalidation_0-error:0.228346\n",
      "[29]\tvalidation_0-error:0.232283\n",
      "[30]\tvalidation_0-error:0.228346\n",
      "[31]\tvalidation_0-error:0.224409\n",
      "[32]\tvalidation_0-error:0.224409\n",
      "[33]\tvalidation_0-error:0.228346\n",
      "[34]\tvalidation_0-error:0.228346\n",
      "[35]\tvalidation_0-error:0.224409\n",
      "[36]\tvalidation_0-error:0.228346\n",
      "[37]\tvalidation_0-error:0.224409\n",
      "[38]\tvalidation_0-error:0.216535\n",
      "[39]\tvalidation_0-error:0.220472\n",
      "[40]\tvalidation_0-error:0.216535\n",
      "[41]\tvalidation_0-error:0.216535\n",
      "[42]\tvalidation_0-error:0.216535\n",
      "[43]\tvalidation_0-error:0.216535\n",
      "[44]\tvalidation_0-error:0.212598\n",
      "[45]\tvalidation_0-error:0.224409\n",
      "[46]\tvalidation_0-error:0.224409\n",
      "[47]\tvalidation_0-error:0.220472\n",
      "[48]\tvalidation_0-error:0.224409\n",
      "[49]\tvalidation_0-error:0.232283\n",
      "[50]\tvalidation_0-error:0.228346\n",
      "[51]\tvalidation_0-error:0.224409\n",
      "[52]\tvalidation_0-error:0.224409\n",
      "[53]\tvalidation_0-error:0.232283\n",
      "[54]\tvalidation_0-error:0.228346\n",
      "[55]\tvalidation_0-error:0.228346\n",
      "[56]\tvalidation_0-error:0.224409\n",
      "[57]\tvalidation_0-error:0.224409\n",
      "[58]\tvalidation_0-error:0.224409\n",
      "[59]\tvalidation_0-error:0.224409\n",
      "[60]\tvalidation_0-error:0.224409\n",
      "[61]\tvalidation_0-error:0.224409\n",
      "[62]\tvalidation_0-error:0.224409\n",
      "[63]\tvalidation_0-error:0.224409\n",
      "[64]\tvalidation_0-error:0.224409\n",
      "[65]\tvalidation_0-error:0.224409\n",
      "[66]\tvalidation_0-error:0.220472\n",
      "[67]\tvalidation_0-error:0.216535\n",
      "[68]\tvalidation_0-error:0.216535\n",
      "[69]\tvalidation_0-error:0.216535\n",
      "[70]\tvalidation_0-error:0.216535\n",
      "[71]\tvalidation_0-error:0.216535\n",
      "[72]\tvalidation_0-error:0.216535\n",
      "[73]\tvalidation_0-error:0.216535\n",
      "[74]\tvalidation_0-error:0.216535\n",
      "[75]\tvalidation_0-error:0.216535\n",
      "[76]\tvalidation_0-error:0.216535\n",
      "[77]\tvalidation_0-error:0.216535\n",
      "[78]\tvalidation_0-error:0.216535\n",
      "[79]\tvalidation_0-error:0.212598\n",
      "[80]\tvalidation_0-error:0.212598\n",
      "[81]\tvalidation_0-error:0.212598\n",
      "[82]\tvalidation_0-error:0.212598\n",
      "[83]\tvalidation_0-error:0.212598\n",
      "[84]\tvalidation_0-error:0.208661\n",
      "[85]\tvalidation_0-error:0.204724\n",
      "[86]\tvalidation_0-error:0.212598\n",
      "[87]\tvalidation_0-error:0.212598\n",
      "[88]\tvalidation_0-error:0.212598\n",
      "[89]\tvalidation_0-error:0.204724\n",
      "[90]\tvalidation_0-error:0.208661\n",
      "[91]\tvalidation_0-error:0.208661\n",
      "[92]\tvalidation_0-error:0.208661\n",
      "[93]\tvalidation_0-error:0.208661\n",
      "[94]\tvalidation_0-error:0.208661\n",
      "[95]\tvalidation_0-error:0.212598\n",
      "[96]\tvalidation_0-error:0.204724\n",
      "[97]\tvalidation_0-error:0.212598\n",
      "[98]\tvalidation_0-error:0.216535\n",
      "[99]\tvalidation_0-error:0.220472\n"
     ]
    },
    {
     "data": {
      "text/plain": [
       "XGBClassifier(base_score=0.5, booster='gbtree', colsample_bylevel=1,\n",
       "       colsample_bynode=1, colsample_bytree=1, gamma=0, learning_rate=0.1,\n",
       "       max_delta_step=0, max_depth=3, min_child_weight=1, missing=None,\n",
       "       n_estimators=100, n_jobs=1, nthread=None,\n",
       "       objective='binary:logistic', random_state=0, reg_alpha=0,\n",
       "       reg_lambda=1, scale_pos_weight=1, seed=None, silent=None,\n",
       "       subsample=1, verbosity=1)"
      ]
     },
     "execution_count": 16,
     "metadata": {},
     "output_type": "execute_result"
    }
   ],
   "source": [
    "eval_set = [(X_test, Y_test)]\n",
    "model.fit(X_train, Y_train, eval_metric='error', eval_set=eval_set, verbose=True)"
   ]
  },
  {
   "cell_type": "code",
   "execution_count": 18,
   "metadata": {},
   "outputs": [
    {
     "name": "stdout",
     "output_type": "stream",
     "text": [
      "[0]\tvalidation_0-logloss:0.660186\n",
      "Will train until validation_0-logloss hasn't improved in 10 rounds.\n",
      "[1]\tvalidation_0-logloss:0.634854\n",
      "[2]\tvalidation_0-logloss:0.61224\n",
      "[3]\tvalidation_0-logloss:0.593118\n",
      "[4]\tvalidation_0-logloss:0.578303\n",
      "[5]\tvalidation_0-logloss:0.564942\n",
      "[6]\tvalidation_0-logloss:0.555113\n",
      "[7]\tvalidation_0-logloss:0.54499\n",
      "[8]\tvalidation_0-logloss:0.539151\n",
      "[9]\tvalidation_0-logloss:0.531819\n",
      "[10]\tvalidation_0-logloss:0.526065\n",
      "[11]\tvalidation_0-logloss:0.519769\n",
      "[12]\tvalidation_0-logloss:0.514979\n",
      "[13]\tvalidation_0-logloss:0.50927\n",
      "[14]\tvalidation_0-logloss:0.506086\n",
      "[15]\tvalidation_0-logloss:0.503565\n",
      "[16]\tvalidation_0-logloss:0.503591\n",
      "[17]\tvalidation_0-logloss:0.500805\n",
      "[18]\tvalidation_0-logloss:0.497605\n",
      "[19]\tvalidation_0-logloss:0.495328\n",
      "[20]\tvalidation_0-logloss:0.494777\n",
      "[21]\tvalidation_0-logloss:0.494274\n",
      "[22]\tvalidation_0-logloss:0.493333\n",
      "[23]\tvalidation_0-logloss:0.492211\n",
      "[24]\tvalidation_0-logloss:0.491936\n",
      "[25]\tvalidation_0-logloss:0.490578\n",
      "[26]\tvalidation_0-logloss:0.490895\n",
      "[27]\tvalidation_0-logloss:0.490646\n",
      "[28]\tvalidation_0-logloss:0.491911\n",
      "[29]\tvalidation_0-logloss:0.491407\n",
      "[30]\tvalidation_0-logloss:0.488828\n",
      "[31]\tvalidation_0-logloss:0.487867\n",
      "[32]\tvalidation_0-logloss:0.487297\n",
      "[33]\tvalidation_0-logloss:0.487562\n",
      "[34]\tvalidation_0-logloss:0.487789\n",
      "[35]\tvalidation_0-logloss:0.487962\n",
      "[36]\tvalidation_0-logloss:0.488218\n",
      "[37]\tvalidation_0-logloss:0.489582\n",
      "[38]\tvalidation_0-logloss:0.489334\n",
      "[39]\tvalidation_0-logloss:0.490968\n",
      "[40]\tvalidation_0-logloss:0.48978\n",
      "[41]\tvalidation_0-logloss:0.490704\n",
      "[42]\tvalidation_0-logloss:0.492369\n",
      "Stopping. Best iteration:\n",
      "[32]\tvalidation_0-logloss:0.487297\n",
      "\n",
      "Accuracy: 77.56%\n"
     ]
    }
   ],
   "source": [
    "model.fit(X_train,Y_train, early_stopping_rounds=10,eval_metric='logloss', eval_set=eval_set, verbose=True)\n",
    "\n",
    "y_pred = model.predict(X_test)\n",
    "predictions = [round(value) for value in y_pred]\n",
    "# evaluate predictions\n",
    "accuracy = accuracy_score(Y_test, predictions)\n",
    "print(\"Accuracy: %.2f%%\" % (accuracy * 100.0))"
   ]
  },
  {
   "cell_type": "markdown",
   "metadata": {},
   "source": [
    "# Feature Importance with XGBoost"
   ]
  },
  {
   "cell_type": "code",
   "execution_count": 19,
   "metadata": {},
   "outputs": [
    {
     "name": "stdout",
     "output_type": "stream",
     "text": [
      "[0.07890794 0.30844045 0.06064048 0.07164859 0.10541682 0.16903177\n",
      " 0.10197888 0.10393505]\n"
     ]
    }
   ],
   "source": [
    "print(model.feature_importances_)"
   ]
  },
  {
   "cell_type": "code",
   "execution_count": 22,
   "metadata": {},
   "outputs": [
    {
     "data": {
      "image/png": "[encoded data removed]",
      "text/plain": [
       "<Figure size 432x288 with 1 Axes>"
      ]
     },
     "metadata": {
      "needs_background": "light"
     },
     "output_type": "display_data"
    }
   ],
   "source": [
    "from xgboost import plot_importance\n",
    "from matplotlib import pyplot\n",
    "plot_importance(model)\n",
    "pyplot.show()"
   ]
  },
  {
   "cell_type": "markdown",
   "metadata": {},
   "source": [
    "# How to Configure Gradient Boosting\n",
    "- Learning rate or shrinkage (**learning_rate in XGBoost)** should be set to 0.1 or lower, and smaller values will require the addition of more trees.\n",
    "- The depth of trees (**tree_depth in XGBoost)** should be configured in the range of 2-to-8, where not much benefit is seen with deeper trees.\n",
    "- Row sampling (**subsample in XGBoost)** should be configured in the range of 30% to 80% of the training dataset, and compared to a value of 100% for no sampling."
   ]
  },
  {
   "cell_type": "markdown",
   "metadata": {},
   "source": [
    "# XGBoost Hyperparameter Tuning\n",
    "- use **GridSearchCV**\n"
   ]
  },
  {
   "cell_type": "code",
   "execution_count": 25,
   "metadata": {},
   "outputs": [
    {
     "name": "stdout",
     "output_type": "stream",
     "text": [
      "Fitting 10 folds for each of 16 candidates, totalling 160 fits\n"
     ]
    },
    {
     "name": "stderr",
     "output_type": "stream",
     "text": [
      "[Parallel(n_jobs=-1)]: Using backend LokyBackend with 4 concurrent workers.\n",
      "[Parallel(n_jobs=-1)]: Done  42 tasks      | elapsed:   12.4s\n",
      "[Parallel(n_jobs=-1)]: Done 160 out of 160 | elapsed:   29.8s finished\n",
      "/Users/ethanpeterson/anaconda3/lib/python3.7/site-packages/sklearn/model_selection/_search.py:841: DeprecationWarning: The default of the `iid` parameter will change from True to False in version 0.22 and will be removed in 0.24. This will change numeric results when test-set sizes are unequal.\n",
      "  DeprecationWarning)\n"
     ]
    }
   ],
   "source": [
    "from sklearn.model_selection import GridSearchCV,StratifiedKFold\n",
    "\n",
    "\n",
    "n_estimators = [50,100,1500,200]\n",
    "max_depth = [2,4,6,8]\n",
    "param_grid = dict(max_depth=max_depth, n_estimators=n_estimators)\n",
    "\n",
    "kfold= StratifiedKFold(n_splits=10, shuffle=True, random_state=7)\n",
    "grid_search = GridSearchCV(model, param_grid,\n",
    "                           scoring='neg_log_loss',\n",
    "                           n_jobs=-1,\n",
    "                           cv=kfold,\n",
    "                           verbose=1)\n",
    "result = grid_search.fit(x, y)"
   ]
  },
  {
   "cell_type": "code",
   "execution_count": 31,
   "metadata": {},
   "outputs": [
    {
     "data": {
      "text/plain": [
       "{'max_depth': 2, 'n_estimators': 100}"
      ]
     },
     "execution_count": 31,
     "metadata": {},
     "output_type": "execute_result"
    }
   ],
   "source": [
    "result.best_params_\n"
   ]
  },
  {
   "cell_type": "code",
   "execution_count": 35,
   "metadata": {},
   "outputs": [
    {
     "name": "stdout",
     "output_type": "stream",
     "text": [
      "Fitting 10 folds for each of 6 candidates, totalling 60 fits\n"
     ]
    },
    {
     "name": "stderr",
     "output_type": "stream",
     "text": [
      "[Parallel(n_jobs=-1)]: Using backend LokyBackend with 4 concurrent workers.\n"
     ]
    },
    {
     "name": "stdout",
     "output_type": "stream",
     "text": [
      "Best: -0.483304 using {'learning_rate': 0.1}\n",
      "-0.689811 (0.000475) with {'learning_rate': 0.0001}\n",
      "-0.661827 (0.004625) with {'learning_rate': 0.001}\n",
      "-0.531155 (0.028945) with {'learning_rate': 0.01}\n",
      "-0.483304 (0.055151) with {'learning_rate': 0.1}\n",
      "-0.515642 (0.061723) with {'learning_rate': 0.2}\n",
      "-0.554158 (0.067557) with {'learning_rate': 0.3}\n"
     ]
    },
    {
     "name": "stderr",
     "output_type": "stream",
     "text": [
      "[Parallel(n_jobs=-1)]: Done  60 out of  60 | elapsed:    1.6s finished\n"
     ]
    }
   ],
   "source": [
    "learning_rate=[0.0001,0.001,0.01,0.1,0.2,0.3]\n",
    "param_grid = dict(learning_rate=learning_rate)\n",
    "\n",
    "grid_search = GridSearchCV(model, param_grid,\n",
    "                           scoring='neg_log_loss',\n",
    "                           n_jobs=-1,\n",
    "                           cv=kfold,\n",
    "                           verbose=1)\n",
    "grid_result = grid_search.fit(x, y)\n",
    "print(\"Best: %f using %s\" % (grid_result.best_score_, grid_result.best_params_))\n",
    "means = grid_result.cv_results_['mean_test_score']\n",
    "stds = grid_result.cv_results_['std_test_score']\n",
    "params = grid_result.cv_results_['params']\n",
    "for mean, stdev, param in zip(means,stds,params):\n",
    "    print('%f (%f) with %r' % (mean, stdev, param))"
   ]
  },
  {
   "cell_type": "code",
   "execution_count": null,
   "metadata": {},
   "outputs": [],
   "source": []
  }
 ],
 "metadata": {
  "kernelspec": {
   "display_name": "Python 3",
   "language": "python",
   "name": "python3"
  },
  "language_info": {
   "codemirror_mode": {
    "name": "ipython",
    "version": 3
   },
   "file_extension": ".py",
   "mimetype": "text/x-python",
   "name": "python",
   "nbconvert_exporter": "python",
   "pygments_lexer": "ipython3",
   "version": "3.7.3"
  }
 },
 "nbformat": 4,
 "nbformat_minor": 2
}
